{
 "cells": [
  {
   "cell_type": "markdown",
   "metadata": {},
   "source": [
    "# Fraud Analytics - Deepanshu Goyal (11920007)"
   ]
  },
  {
   "cell_type": "code",
   "execution_count": 1,
   "metadata": {},
   "outputs": [],
   "source": [
    "import pandas as pd\n",
    "import numpy as np\n",
    "import matplotlib.pyplot as plt\n",
    "import seaborn as sns\n",
    "%matplotlib inline\n",
    "\n",
    "import warnings\n",
    "warnings.filterwarnings(\"ignore\")"
   ]
  },
  {
   "cell_type": "markdown",
   "metadata": {},
   "source": [
    "# 1. Understand the data"
   ]
  },
  {
   "cell_type": "code",
   "execution_count": 2,
   "metadata": {},
   "outputs": [
    {
     "name": "stdout",
     "output_type": "stream",
     "text": [
      "<class 'pandas.core.frame.DataFrame'>\n",
      "RangeIndex: 284807 entries, 0 to 284806\n",
      "Data columns (total 31 columns):\n",
      " #   Column  Non-Null Count   Dtype  \n",
      "---  ------  --------------   -----  \n",
      " 0   Time    284807 non-null  float64\n",
      " 1   V1      284807 non-null  float64\n",
      " 2   V2      284807 non-null  float64\n",
      " 3   V3      284807 non-null  float64\n",
      " 4   V4      284807 non-null  float64\n",
      " 5   V5      284807 non-null  float64\n",
      " 6   V6      284807 non-null  float64\n",
      " 7   V7      284807 non-null  float64\n",
      " 8   V8      284807 non-null  float64\n",
      " 9   V9      284807 non-null  float64\n",
      " 10  V10     284807 non-null  float64\n",
      " 11  V11     284807 non-null  float64\n",
      " 12  V12     284807 non-null  float64\n",
      " 13  V13     284807 non-null  float64\n",
      " 14  V14     284807 non-null  float64\n",
      " 15  V15     284807 non-null  float64\n",
      " 16  V16     284807 non-null  float64\n",
      " 17  V17     284807 non-null  float64\n",
      " 18  V18     284807 non-null  float64\n",
      " 19  V19     284807 non-null  float64\n",
      " 20  V20     284807 non-null  float64\n",
      " 21  V21     284807 non-null  float64\n",
      " 22  V22     284807 non-null  float64\n",
      " 23  V23     284807 non-null  float64\n",
      " 24  V24     284807 non-null  float64\n",
      " 25  V25     284807 non-null  float64\n",
      " 26  V26     284807 non-null  float64\n",
      " 27  V27     284807 non-null  float64\n",
      " 28  V28     284807 non-null  float64\n",
      " 29  Amount  284807 non-null  float64\n",
      " 30  Class   284807 non-null  int64  \n",
      "dtypes: float64(30), int64(1)\n",
      "memory usage: 67.4 MB\n"
     ]
    }
   ],
   "source": [
    "data = pd.read_csv('creditcard.csv')\n",
    "data.info()"
   ]
  },
  {
   "cell_type": "code",
   "execution_count": 3,
   "metadata": {},
   "outputs": [
    {
     "data": {
      "text/html": [
       "<div>\n",
       "<style scoped>\n",
       "    .dataframe tbody tr th:only-of-type {\n",
       "        vertical-align: middle;\n",
       "    }\n",
       "\n",
       "    .dataframe tbody tr th {\n",
       "        vertical-align: top;\n",
       "    }\n",
       "\n",
       "    .dataframe thead th {\n",
       "        text-align: right;\n",
       "    }\n",
       "</style>\n",
       "<table border=\"1\" class=\"dataframe\">\n",
       "  <thead>\n",
       "    <tr style=\"text-align: right;\">\n",
       "      <th></th>\n",
       "      <th>Time</th>\n",
       "      <th>V1</th>\n",
       "      <th>V2</th>\n",
       "      <th>V3</th>\n",
       "      <th>V4</th>\n",
       "      <th>V5</th>\n",
       "      <th>V6</th>\n",
       "      <th>V7</th>\n",
       "      <th>V8</th>\n",
       "      <th>V9</th>\n",
       "      <th>...</th>\n",
       "      <th>V22</th>\n",
       "      <th>V23</th>\n",
       "      <th>V24</th>\n",
       "      <th>V25</th>\n",
       "      <th>V26</th>\n",
       "      <th>V27</th>\n",
       "      <th>V28</th>\n",
       "      <th>Amount</th>\n",
       "      <th>Class</th>\n",
       "      <th>log_amount</th>\n",
       "    </tr>\n",
       "  </thead>\n",
       "  <tbody>\n",
       "    <tr>\n",
       "      <th>0</th>\n",
       "      <td>0.0</td>\n",
       "      <td>-1.359807</td>\n",
       "      <td>-0.072781</td>\n",
       "      <td>2.536347</td>\n",
       "      <td>1.378155</td>\n",
       "      <td>-0.338321</td>\n",
       "      <td>0.462388</td>\n",
       "      <td>0.239599</td>\n",
       "      <td>0.098698</td>\n",
       "      <td>0.363787</td>\n",
       "      <td>...</td>\n",
       "      <td>0.277838</td>\n",
       "      <td>-0.110474</td>\n",
       "      <td>0.066928</td>\n",
       "      <td>0.128539</td>\n",
       "      <td>-0.189115</td>\n",
       "      <td>0.133558</td>\n",
       "      <td>-0.021053</td>\n",
       "      <td>149.62</td>\n",
       "      <td>0</td>\n",
       "      <td>5.008099</td>\n",
       "    </tr>\n",
       "    <tr>\n",
       "      <th>1</th>\n",
       "      <td>0.0</td>\n",
       "      <td>1.191857</td>\n",
       "      <td>0.266151</td>\n",
       "      <td>0.166480</td>\n",
       "      <td>0.448154</td>\n",
       "      <td>0.060018</td>\n",
       "      <td>-0.082361</td>\n",
       "      <td>-0.078803</td>\n",
       "      <td>0.085102</td>\n",
       "      <td>-0.255425</td>\n",
       "      <td>...</td>\n",
       "      <td>-0.638672</td>\n",
       "      <td>0.101288</td>\n",
       "      <td>-0.339846</td>\n",
       "      <td>0.167170</td>\n",
       "      <td>0.125895</td>\n",
       "      <td>-0.008983</td>\n",
       "      <td>0.014724</td>\n",
       "      <td>2.69</td>\n",
       "      <td>0</td>\n",
       "      <td>0.989541</td>\n",
       "    </tr>\n",
       "    <tr>\n",
       "      <th>2</th>\n",
       "      <td>1.0</td>\n",
       "      <td>-1.358354</td>\n",
       "      <td>-1.340163</td>\n",
       "      <td>1.773209</td>\n",
       "      <td>0.379780</td>\n",
       "      <td>-0.503198</td>\n",
       "      <td>1.800499</td>\n",
       "      <td>0.791461</td>\n",
       "      <td>0.247676</td>\n",
       "      <td>-1.514654</td>\n",
       "      <td>...</td>\n",
       "      <td>0.771679</td>\n",
       "      <td>0.909412</td>\n",
       "      <td>-0.689281</td>\n",
       "      <td>-0.327642</td>\n",
       "      <td>-0.139097</td>\n",
       "      <td>-0.055353</td>\n",
       "      <td>-0.059752</td>\n",
       "      <td>378.66</td>\n",
       "      <td>0</td>\n",
       "      <td>5.936639</td>\n",
       "    </tr>\n",
       "    <tr>\n",
       "      <th>3</th>\n",
       "      <td>1.0</td>\n",
       "      <td>-0.966272</td>\n",
       "      <td>-0.185226</td>\n",
       "      <td>1.792993</td>\n",
       "      <td>-0.863291</td>\n",
       "      <td>-0.010309</td>\n",
       "      <td>1.247203</td>\n",
       "      <td>0.237609</td>\n",
       "      <td>0.377436</td>\n",
       "      <td>-1.387024</td>\n",
       "      <td>...</td>\n",
       "      <td>0.005274</td>\n",
       "      <td>-0.190321</td>\n",
       "      <td>-1.175575</td>\n",
       "      <td>0.647376</td>\n",
       "      <td>-0.221929</td>\n",
       "      <td>0.062723</td>\n",
       "      <td>0.061458</td>\n",
       "      <td>123.50</td>\n",
       "      <td>0</td>\n",
       "      <td>4.816241</td>\n",
       "    </tr>\n",
       "    <tr>\n",
       "      <th>4</th>\n",
       "      <td>2.0</td>\n",
       "      <td>-1.158233</td>\n",
       "      <td>0.877737</td>\n",
       "      <td>1.548718</td>\n",
       "      <td>0.403034</td>\n",
       "      <td>-0.407193</td>\n",
       "      <td>0.095921</td>\n",
       "      <td>0.592941</td>\n",
       "      <td>-0.270533</td>\n",
       "      <td>0.817739</td>\n",
       "      <td>...</td>\n",
       "      <td>0.798278</td>\n",
       "      <td>-0.137458</td>\n",
       "      <td>0.141267</td>\n",
       "      <td>-0.206010</td>\n",
       "      <td>0.502292</td>\n",
       "      <td>0.219422</td>\n",
       "      <td>0.215153</td>\n",
       "      <td>69.99</td>\n",
       "      <td>0</td>\n",
       "      <td>4.248352</td>\n",
       "    </tr>\n",
       "  </tbody>\n",
       "</table>\n",
       "<p>5 rows × 32 columns</p>\n",
       "</div>"
      ],
      "text/plain": [
       "   Time        V1        V2        V3        V4        V5        V6        V7  \\\n",
       "0   0.0 -1.359807 -0.072781  2.536347  1.378155 -0.338321  0.462388  0.239599   \n",
       "1   0.0  1.191857  0.266151  0.166480  0.448154  0.060018 -0.082361 -0.078803   \n",
       "2   1.0 -1.358354 -1.340163  1.773209  0.379780 -0.503198  1.800499  0.791461   \n",
       "3   1.0 -0.966272 -0.185226  1.792993 -0.863291 -0.010309  1.247203  0.237609   \n",
       "4   2.0 -1.158233  0.877737  1.548718  0.403034 -0.407193  0.095921  0.592941   \n",
       "\n",
       "         V8        V9  ...       V22       V23       V24       V25       V26  \\\n",
       "0  0.098698  0.363787  ...  0.277838 -0.110474  0.066928  0.128539 -0.189115   \n",
       "1  0.085102 -0.255425  ... -0.638672  0.101288 -0.339846  0.167170  0.125895   \n",
       "2  0.247676 -1.514654  ...  0.771679  0.909412 -0.689281 -0.327642 -0.139097   \n",
       "3  0.377436 -1.387024  ...  0.005274 -0.190321 -1.175575  0.647376 -0.221929   \n",
       "4 -0.270533  0.817739  ...  0.798278 -0.137458  0.141267 -0.206010  0.502292   \n",
       "\n",
       "        V27       V28  Amount  Class  log_amount  \n",
       "0  0.133558 -0.021053  149.62      0    5.008099  \n",
       "1 -0.008983  0.014724    2.69      0    0.989541  \n",
       "2 -0.055353 -0.059752  378.66      0    5.936639  \n",
       "3  0.062723  0.061458  123.50      0    4.816241  \n",
       "4  0.219422  0.215153   69.99      0    4.248352  \n",
       "\n",
       "[5 rows x 32 columns]"
      ]
     },
     "execution_count": 3,
     "metadata": {},
     "output_type": "execute_result"
    }
   ],
   "source": [
    "data['log_amount'] = np.log(data['Amount'])\n",
    "data.head()"
   ]
  },
  {
   "cell_type": "code",
   "execution_count": 4,
   "metadata": {},
   "outputs": [
    {
     "data": {
      "text/plain": [
       "Class\n",
       "0    284315\n",
       "1       492\n",
       "Name: Time, dtype: int64"
      ]
     },
     "execution_count": 4,
     "metadata": {},
     "output_type": "execute_result"
    }
   ],
   "source": [
    "#Count the number of legitimate and fraudulent transactions in the dataset\n",
    "data.groupby('Class').count()['Time']"
   ]
  },
  {
   "cell_type": "code",
   "execution_count": 5,
   "metadata": {},
   "outputs": [
    {
     "data": {
      "text/plain": [
       "<matplotlib.axes._subplots.AxesSubplot at 0x14c5fc6a9e8>"
      ]
     },
     "execution_count": 5,
     "metadata": {},
     "output_type": "execute_result"
    },
    {
     "data": {
      "image/png": "[encoded data removed]",
      "text/plain": [
       "<Figure size 1080x720 with 1 Axes>"
      ]
     },
     "metadata": {
      "needs_background": "light"
     },
     "output_type": "display_data"
    }
   ],
   "source": [
    "# See transaction pattern in genuine and fraudulent cases\n",
    "data.boxplot(column='log_amount',by='Class',figsize=(15,10))"
   ]
  },
  {
   "cell_type": "code",
   "execution_count": 6,
   "metadata": {},
   "outputs": [
    {
     "data": {
      "image/png": "[encoded data removed]",
      "text/plain": [
       "<Figure size 1080x360 with 1 Axes>"
      ]
     },
     "metadata": {
      "needs_background": "light"
     },
     "output_type": "display_data"
    }
   ],
   "source": [
    "# Distribution of Fraudulent Transactions\n",
    "plt.figure(figsize=(15,5))\n",
    "plt.hist(data[data['Class']==1]['Amount'],bins=10,color='red')\n",
    "plt.show()"
   ]
  },
  {
   "cell_type": "code",
   "execution_count": 7,
   "metadata": {},
   "outputs": [
    {
     "data": {
      "text/plain": [
       "0.8272357723577236"
      ]
     },
     "execution_count": 7,
     "metadata": {},
     "output_type": "execute_result"
    }
   ],
   "source": [
    "# Number of fraud transactions less than 100 pounds\n",
    "sum(data[data['Class']==1]['Amount']<200)/sum(data['Class']==1)"
   ]
  },
  {
   "cell_type": "code",
   "execution_count": 8,
   "metadata": {},
   "outputs": [
    {
     "data": {
      "image/png": "[encoded data removed]",
      "text/plain": [
       "<Figure size 1080x360 with 1 Axes>"
      ]
     },
     "metadata": {
      "needs_background": "light"
     },
     "output_type": "display_data"
    }
   ],
   "source": [
    "# Distribution of genuine Transactions\n",
    "plt.figure(figsize=(15,5))\n",
    "plt.hist(data[data['Class']==0]['Amount'],bins=10,color='green')\n",
    "plt.show()"
   ]
  },
  {
   "cell_type": "code",
   "execution_count": 9,
   "metadata": {},
   "outputs": [
    {
     "data": {
      "text/plain": [
       "0.8971914953484691"
      ]
     },
     "execution_count": 9,
     "metadata": {},
     "output_type": "execute_result"
    }
   ],
   "source": [
    "# Percentage of fraud transactions less than 500 pounds\n",
    "sum(data[data['Class']==0]['Amount']<200)/sum(data['Class']==0)"
   ]
  },
  {
   "cell_type": "code",
   "execution_count": 10,
   "metadata": {},
   "outputs": [
    {
     "data": {
      "text/plain": [
       "<matplotlib.axes._subplots.AxesSubplot at 0x14c60affe10>"
      ]
     },
     "execution_count": 10,
     "metadata": {},
     "output_type": "execute_result"
    },
    {
     "data": {
      "image/png": "[encoded data removed]",
      "text/plain": [
       "<Figure size 1440x360 with 2 Axes>"
      ]
     },
     "metadata": {
      "needs_background": "light"
     },
     "output_type": "display_data"
    }
   ],
   "source": [
    "# Distribution of Time and Amount\n",
    "fig, axs = plt.subplots(ncols=2,figsize=(20,5))\n",
    "sns.distplot(data['Amount'],ax=axs[0])\n",
    "sns.distplot(data['Time'],ax=axs[1])"
   ]
  },
  {
   "cell_type": "code",
   "execution_count": 56,
   "metadata": {},
   "outputs": [
    {
     "data": {
      "image/png": "[encoded data removed]",
      "text/plain": [
       "<Figure size 402.375x360 with 1 Axes>"
      ]
     },
     "metadata": {
      "needs_background": "light"
     },
     "output_type": "display_data"
    }
   ],
   "source": [
    "# scatter plot using first 2 dimensions of PCA\n",
    "sns.lmplot('V1', 'V2', data=data, hue='Class')\n",
    "plt.show()"
   ]
  },
  {
   "cell_type": "markdown",
   "metadata": {},
   "source": [
    "# Observations after EDA\n",
    "1. There are 284807 records with no missing data in the dataset\n",
    "2. There are 492 fraudulent records and 284315 legitimate transactions i.e. 0.17% of total number of transactions\n",
    "3. ~83% of the fraud transactions are less than £200\n",
    "4. ~90% of the genuine transactions are less than £200\n",
    "5. Both high value and low value fraud transactions happened"
   ]
  },
  {
   "cell_type": "markdown",
   "metadata": {},
   "source": [
    "# 2. Split the dataset into Test and Train Dataset"
   ]
  },
  {
   "cell_type": "code",
   "execution_count": 11,
   "metadata": {},
   "outputs": [],
   "source": [
    "X = data.drop(['Class','log_amount'],axis=1)\n",
    "y = data['Class']"
   ]
  },
  {
   "cell_type": "code",
   "execution_count": 12,
   "metadata": {},
   "outputs": [],
   "source": [
    "# Split the test and train data into 70% and 30%\n",
    "from sklearn.model_selection import train_test_split\n",
    "X_train, X_test, y_train, y_test = train_test_split(X,y,test_size=0.3,random_state=100, stratify=y)"
   ]
  },
  {
   "cell_type": "markdown",
   "metadata": {},
   "source": [
    "# 3. Handle imbalance in the trainig dataset using different techniques such as\n",
    "\n",
    "1. Random Under-sample\n",
    "2. Random Over-sample\n",
    "3. SMOTE Over-sample\n",
    "4. SVMSOTE Over-sample\n",
    "5. Borderline SMOTE Over-sample"
   ]
  },
  {
   "cell_type": "code",
   "execution_count": 13,
   "metadata": {},
   "outputs": [
    {
     "name": "stdout",
     "output_type": "stream",
     "text": [
      "344\n",
      "Number of Fraud Transactions: 344\n",
      "Number of Genuine Transactions: 344\n"
     ]
    }
   ],
   "source": [
    "# Random Undersampling Technique\n",
    "us_train_df = X_train.copy()\n",
    "us_train_df['Class'] = y_train\n",
    "\n",
    "# Undersample majority class to match fraud transactions count\n",
    "from sklearn.utils import resample\n",
    "\n",
    "us_majority = us_train_df[us_train_df['Class']==0]\n",
    "us_minority = us_train_df[us_train_df['Class']==1]\n",
    "print(us_minority.shape[0])\n",
    "\n",
    "us_majority_f = resample(us_majority, replace=True, n_samples=344,random_state=100)\n",
    "final_undersample_df = pd.concat([us_majority_f,us_minority])\n",
    "\n",
    "#Print final undersample dataset\n",
    "us_X = final_undersample_df.drop('Class',axis=1)\n",
    "us_y = final_undersample_df['Class']\n",
    "\n",
    "print('Number of Fraud Transactions:',sum(us_y==1))\n",
    "print('Number of Genuine Transactions:',sum(us_y==0))"
   ]
  },
  {
   "cell_type": "code",
   "execution_count": 14,
   "metadata": {},
   "outputs": [
    {
     "name": "stdout",
     "output_type": "stream",
     "text": [
      "Number of Fraud Transactions: 199020\n",
      "Number of Genuine Transactions: 199020\n"
     ]
    }
   ],
   "source": [
    "# Oversample minority class to match genuine transactions using Random Oversample\n",
    "from imblearn.over_sampling import RandomOverSampler\n",
    "ros = RandomOverSampler(random_state=100)\n",
    "\n",
    "ros_X,ros_y = ros.fit_sample(X_train,y_train)\n",
    "\n",
    "print('Number of Fraud Transactions:',sum(ros_y==1))\n",
    "print('Number of Genuine Transactions:',sum(ros_y==0))"
   ]
  },
  {
   "cell_type": "code",
   "execution_count": 15,
   "metadata": {},
   "outputs": [
    {
     "name": "stdout",
     "output_type": "stream",
     "text": [
      "Number of Fraud Transactions: 199020\n",
      "Number of Genuine Transactions: 199020\n"
     ]
    }
   ],
   "source": [
    "# Oversample minority class to match genuine transactions using SMOTE\n",
    "from imblearn.over_sampling import SMOTE\n",
    "smote = SMOTE(random_state=200)\n",
    "\n",
    "smote_X,smote_y = smote.fit_sample(X_train,y_train)\n",
    "\n",
    "print('Number of Fraud Transactions:',sum(smote_y==1))\n",
    "print('Number of Genuine Transactions:',sum(smote_y==0))"
   ]
  },
  {
   "cell_type": "code",
   "execution_count": 16,
   "metadata": {},
   "outputs": [
    {
     "name": "stdout",
     "output_type": "stream",
     "text": [
      "Number of Fraud Transactions: 199020\n",
      "Number of Genuine Transactions: 199020\n"
     ]
    }
   ],
   "source": [
    "# Oversample minority class to match genuine transactions using SVMSMOTE\n",
    "from imblearn.over_sampling import SVMSMOTE\n",
    "svmsmote = SVMSMOTE(random_state=300)\n",
    "\n",
    "svmsmote_X,svmsmote_y = svmsmote.fit_resample(X_train,y_train)\n",
    "\n",
    "print('Number of Fraud Transactions:',sum(svmsmote_y==1))\n",
    "print('Number of Genuine Transactions:',sum(svmsmote_y==0))"
   ]
  },
  {
   "cell_type": "code",
   "execution_count": 17,
   "metadata": {},
   "outputs": [
    {
     "name": "stdout",
     "output_type": "stream",
     "text": [
      "Number of Fraud Transactions: 199020\n",
      "Number of Genuine Transactions: 199020\n"
     ]
    }
   ],
   "source": [
    "# Oversample minority class to match genuine transactions using Borderline SMOTE\n",
    "from imblearn.over_sampling import BorderlineSMOTE\n",
    "bsmote = BorderlineSMOTE(random_state=400)\n",
    "\n",
    "bsmote_X,bsmote_y = bsmote.fit_resample(X_train,y_train)\n",
    "\n",
    "print('Number of Fraud Transactions:',sum(bsmote_y==1))\n",
    "print('Number of Genuine Transactions:',sum(bsmote_y==0))"
   ]
  },
  {
   "cell_type": "markdown",
   "metadata": {},
   "source": [
    "# 4. Data Modelling & Prediction\n",
    "1. Logistic Regression\n",
    "2. Random Forest\n",
    "3. Naive Bayes"
   ]
  },
  {
   "cell_type": "code",
   "execution_count": 18,
   "metadata": {},
   "outputs": [],
   "source": [
    "from sklearn.metrics import accuracy_score\n",
    "from sklearn.metrics import f1_score\n",
    "from sklearn.metrics import recall_score\n",
    "from sklearn.metrics import roc_auc_score\n",
    "from sklearn.metrics import precision_score\n",
    "from sklearn.metrics import confusion_matrix\n",
    "\n",
    "def get_scores(predicted, y_test):\n",
    "    \n",
    "    print(confusion_matrix(y_test,predicted,labels=[1,0]))\n",
    "    print (\"accuracy: \", str(accuracy_score(y_test, predicted)))\n",
    "    print (\"precision: \", str(precision_score(y_test, predicted)))\n",
    "    print (\"recall: \", str(recall_score(y_test, predicted)))\n",
    "    print (\"AUC: \", str(roc_auc_score(y_test, predicted)))\n",
    "    print(\"F1_Score: \", str(f1_score(y_test, predicted, average='macro')))\n",
    "    return"
   ]
  },
  {
   "cell_type": "markdown",
   "metadata": {},
   "source": [
    "# Logistic Regression"
   ]
  },
  {
   "cell_type": "code",
   "execution_count": 19,
   "metadata": {},
   "outputs": [],
   "source": [
    "# Implement logistic Regression Model\n",
    "from sklearn.linear_model import LogisticRegression\n",
    "\n",
    "def logistic_regression(X_train, X_test, y_train, y_test):\n",
    "    lr = LogisticRegression(random_state=1).fit(X_train,y_train)\n",
    "    y_predicted = lr.predict(X_test)\n",
    "\n",
    "    # Print model scores\n",
    "    get_scores(y_predicted, y_test)\n",
    "    "
   ]
  },
  {
   "cell_type": "code",
   "execution_count": 20,
   "metadata": {},
   "outputs": [
    {
     "name": "stdout",
     "output_type": "stream",
     "text": [
      "[[   98    50]\n",
      " [   40 85255]]\n",
      "accuracy:  0.9989466661985184\n",
      "precision:  0.7101449275362319\n",
      "recall:  0.6621621621621622\n",
      "AUC:  0.8308466007481191\n",
      "F1_Score:  0.8423935677452676\n"
     ]
    }
   ],
   "source": [
    "# Logistic Regression on actual train data without oversampling & under sampling\n",
    "logistic_regression(X_train,X_test, y_train,y_test)"
   ]
  },
  {
   "cell_type": "code",
   "execution_count": 21,
   "metadata": {},
   "outputs": [
    {
     "name": "stdout",
     "output_type": "stream",
     "text": [
      "[[  131    17]\n",
      " [ 3199 82096]]\n",
      "accuracy:  0.9623608721603877\n",
      "precision:  0.03933933933933934\n",
      "recall:  0.8851351351351351\n",
      "AUC:  0.9238150029389257\n",
      "F1_Score:  0.5280600491658302\n"
     ]
    }
   ],
   "source": [
    "# Logistic Regression for random undersampling data\n",
    "logistic_regression(us_X,X_test,us_y,y_test)"
   ]
  },
  {
   "cell_type": "code",
   "execution_count": 22,
   "metadata": {},
   "outputs": [
    {
     "name": "stdout",
     "output_type": "stream",
     "text": [
      "[[  132    16]\n",
      " [ 2703 82592]]\n",
      "accuracy:  0.9681776154863476\n",
      "precision:  0.04656084656084656\n",
      "recall:  0.8918918918918919\n",
      "AUC:  0.930100937446034\n",
      "F1_Score:  0.5361538173523074\n"
     ]
    }
   ],
   "source": [
    "# Logistic Regression using random oversampling\n",
    "logistic_regression(ros_X, X_test, ros_y, y_test)"
   ]
  },
  {
   "cell_type": "code",
   "execution_count": 23,
   "metadata": {},
   "outputs": [
    {
     "name": "stdout",
     "output_type": "stream",
     "text": [
      "[[  129    19]\n",
      " [ 1691 83604]]\n",
      "accuracy:  0.9799866577718479\n",
      "precision:  0.07087912087912088\n",
      "recall:  0.8716216216216216\n",
      "AUC:  0.925898154734839\n",
      "F1_Score:  0.5604871529525511\n"
     ]
    }
   ],
   "source": [
    "# Logistic Regression using SMOTE\n",
    "logistic_regression(smote_X, X_test, smote_y, y_test)"
   ]
  },
  {
   "cell_type": "code",
   "execution_count": 24,
   "metadata": {},
   "outputs": [
    {
     "name": "stdout",
     "output_type": "stream",
     "text": [
      "[[  124    24]\n",
      " [  785 84510]]\n",
      "accuracy:  0.9905316994955702\n",
      "precision:  0.13641364136413642\n",
      "recall:  0.8378378378378378\n",
      "AUC:  0.9143172423845382\n",
      "F1_Score:  0.6149313428428116\n"
     ]
    }
   ],
   "source": [
    "# Logistic Regression using SVMSMOTE\n",
    "logistic_regression(svmsmote_X, X_test, svmsmote_y, y_test)"
   ]
  },
  {
   "cell_type": "code",
   "execution_count": 25,
   "metadata": {},
   "outputs": [
    {
     "name": "stdout",
     "output_type": "stream",
     "text": [
      "[[  128    20]\n",
      " [ 1200 84095]]\n",
      "accuracy:  0.9857214751354705\n",
      "precision:  0.0963855421686747\n",
      "recall:  0.8648648648648649\n",
      "AUC:  0.9253980224435703\n",
      "F1_Score:  0.5831201352566031\n"
     ]
    }
   ],
   "source": [
    "# Logistic Regression using Borderline SMOTE\n",
    "logistic_regression(bsmote_X, X_test, bsmote_y, y_test)"
   ]
  },
  {
   "cell_type": "markdown",
   "metadata": {},
   "source": [
    "# Random Forest"
   ]
  },
  {
   "cell_type": "code",
   "execution_count": 26,
   "metadata": {},
   "outputs": [],
   "source": [
    "# Implement RandomForest Model\n",
    "from sklearn.ensemble import RandomForestClassifier\n",
    "\n",
    "def rf(X_train, X_test, y_train, y_test):\n",
    "    rf = RandomForestClassifier(n_estimators=10,random_state=1).fit(X_train,y_train)\n",
    "    y_predicted = rf.predict(X_test)\n",
    "\n",
    "    # Print model scores\n",
    "    get_scores(y_predicted, y_test)"
   ]
  },
  {
   "cell_type": "code",
   "execution_count": 27,
   "metadata": {},
   "outputs": [
    {
     "name": "stdout",
     "output_type": "stream",
     "text": [
      "[[  107    41]\n",
      " [    6 85289]]\n",
      "accuracy:  0.9994499256814484\n",
      "precision:  0.9469026548672567\n",
      "recall:  0.722972972972973\n",
      "AUC:  0.8614513144365422\n",
      "F1_Score:  0.9098239568860258\n"
     ]
    }
   ],
   "source": [
    "# Random Forest on actual data without undersampling or oversampling\n",
    "rf(X_train,X_test, y_train,y_test)"
   ]
  },
  {
   "cell_type": "code",
   "execution_count": 28,
   "metadata": {},
   "outputs": [
    {
     "name": "stdout",
     "output_type": "stream",
     "text": [
      "[[  130    18]\n",
      " [ 2352 82943]]\n",
      "accuracy:  0.9722622098943156\n",
      "precision:  0.052377115229653506\n",
      "recall:  0.8783783783783784\n",
      "AUC:  0.9254017456110194\n",
      "F1_Score:  0.5423868183119838\n"
     ]
    }
   ],
   "source": [
    "# Random Forest for random undersampling data\n",
    "rf(us_X,X_test,us_y,y_test)"
   ]
  },
  {
   "cell_type": "code",
   "execution_count": 29,
   "metadata": {},
   "outputs": [
    {
     "name": "stdout",
     "output_type": "stream",
     "text": [
      "[[  119    29]\n",
      " [   11 85284]]\n",
      "accuracy:  0.9995318516437859\n",
      "precision:  0.9153846153846154\n",
      "recall:  0.8040540540540541\n",
      "AUC:  0.9019625449354624\n",
      "F1_Score:  0.9279403261597793\n"
     ]
    }
   ],
   "source": [
    "# Random Forest using random oversampling\n",
    "rf(ros_X, X_test, ros_y, y_test)"
   ]
  },
  {
   "cell_type": "code",
   "execution_count": 30,
   "metadata": {},
   "outputs": [
    {
     "name": "stdout",
     "output_type": "stream",
     "text": [
      "[[  121    27]\n",
      " [   20 85275]]\n",
      "accuracy:  0.9994499256814484\n",
      "precision:  0.8581560283687943\n",
      "recall:  0.8175675675675675\n",
      "AUC:  0.9086665436173027\n",
      "F1_Score:  0.9185473695641561\n"
     ]
    }
   ],
   "source": [
    "# Random Forest using SMOTE\n",
    "rf(smote_X, X_test, smote_y, y_test)"
   ]
  },
  {
   "cell_type": "code",
   "execution_count": 31,
   "metadata": {},
   "outputs": [
    {
     "name": "stdout",
     "output_type": "stream",
     "text": [
      "[[  115    33]\n",
      " [   10 85285]]\n",
      "accuracy:  0.9994967405170698\n",
      "precision:  0.92\n",
      "recall:  0.777027027027027\n",
      "AUC:  0.888454893430273\n",
      "F1_Score:  0.9211194050567368\n"
     ]
    }
   ],
   "source": [
    "# Random Forest using SVMSMOTE\n",
    "rf(svmsmote_X, X_test, svmsmote_y, y_test)"
   ]
  },
  {
   "cell_type": "code",
   "execution_count": 32,
   "metadata": {},
   "outputs": [
    {
     "name": "stdout",
     "output_type": "stream",
     "text": [
      "[[  115    33]\n",
      " [   10 85285]]\n",
      "accuracy:  0.9994967405170698\n",
      "precision:  0.92\n",
      "recall:  0.777027027027027\n",
      "AUC:  0.888454893430273\n",
      "F1_Score:  0.9211194050567368\n"
     ]
    }
   ],
   "source": [
    "# Random Forest using Borderline SMOTE\n",
    "rf(bsmote_X, X_test, bsmote_y, y_test)"
   ]
  },
  {
   "cell_type": "markdown",
   "metadata": {},
   "source": [
    "# Naive Bayes"
   ]
  },
  {
   "cell_type": "code",
   "execution_count": 35,
   "metadata": {},
   "outputs": [],
   "source": [
    "# Implement Naive Bayes\n",
    "from sklearn.naive_bayes import GaussianNB\n",
    "\n",
    "def nb(X_train, X_test, y_train, y_test):\n",
    "    nb = GaussianNB().fit(X_train,y_train)\n",
    "    y_predicted = nb.predict(X_test)\n",
    "\n",
    "    # Print model scores\n",
    "    get_scores(y_predicted, y_test)"
   ]
  },
  {
   "cell_type": "code",
   "execution_count": 36,
   "metadata": {},
   "outputs": [
    {
     "name": "stdout",
     "output_type": "stream",
     "text": [
      "[[   87    61]\n",
      " [  627 84668]]\n",
      "accuracy:  0.9919478482731178\n",
      "precision:  0.12184873949579832\n",
      "recall:  0.5878378378378378\n",
      "AUC:  0.7902434396997384\n",
      "F1_Score:  0.5989048304685907\n"
     ]
    }
   ],
   "source": [
    "# Naive Bayes on actual data without undersampling or oversampling\n",
    "nb(X_train,X_test, y_train,y_test)"
   ]
  },
  {
   "cell_type": "code",
   "execution_count": 37,
   "metadata": {},
   "outputs": [
    {
     "name": "stdout",
     "output_type": "stream",
     "text": [
      "[[  101    47]\n",
      " [  685 84610]]\n",
      "accuracy:  0.9914328850812822\n",
      "precision:  0.12849872773536897\n",
      "recall:  0.6824324324324325\n",
      "AUC:  0.8372007405142408\n",
      "F1_Score:  0.6059834957304484\n"
     ]
    }
   ],
   "source": [
    "# Naive Bayes for random undersampling data\n",
    "nb(us_X,X_test,us_y,y_test)"
   ]
  },
  {
   "cell_type": "code",
   "execution_count": 38,
   "metadata": {},
   "outputs": [
    {
     "name": "stdout",
     "output_type": "stream",
     "text": [
      "[[   98    50]\n",
      " [  843 84452]]\n",
      "accuracy:  0.9895485879475205\n",
      "precision:  0.10414452709883103\n",
      "recall:  0.6621621621621622\n",
      "AUC:  0.8261394080639054\n",
      "F1_Score:  0.5873612066108239\n"
     ]
    }
   ],
   "source": [
    "# Naive Bayes using random oversampling\n",
    "nb(ros_X, X_test, ros_y, y_test)"
   ]
  },
  {
   "cell_type": "code",
   "execution_count": 39,
   "metadata": {},
   "outputs": [
    {
     "name": "stdout",
     "output_type": "stream",
     "text": [
      "[[  105    43]\n",
      " [  626 84669]]\n",
      "accuracy:  0.9921702187423195\n",
      "precision:  0.1436388508891929\n",
      "recall:  0.7094594594594594\n",
      "AUC:  0.8510601125188733\n",
      "F1_Score:  0.6174863588732775\n"
     ]
    }
   ],
   "source": [
    "# Naive Bayes using SMOTE\n",
    "nb(smote_X, X_test, smote_y, y_test)"
   ]
  },
  {
   "cell_type": "code",
   "execution_count": 40,
   "metadata": {},
   "outputs": [
    {
     "name": "stdout",
     "output_type": "stream",
     "text": [
      "[[   83    65]\n",
      " [  196 85099]]\n",
      "accuracy:  0.9969453319757031\n",
      "precision:  0.2974910394265233\n",
      "recall:  0.5608108108108109\n",
      "AUC:  0.7792564517738912\n",
      "F1_Score:  0.6936138111078597\n"
     ]
    }
   ],
   "source": [
    "# Naive Bayes using SVMSMOTE\n",
    "nb(svmsmote_X, X_test, svmsmote_y, y_test)"
   ]
  },
  {
   "cell_type": "code",
   "execution_count": 41,
   "metadata": {},
   "outputs": [
    {
     "name": "stdout",
     "output_type": "stream",
     "text": [
      "[[   87    61]\n",
      " [  378 84917]]\n",
      "accuracy:  0.9948620717905504\n",
      "precision:  0.1870967741935484\n",
      "recall:  0.5878378378378378\n",
      "AUC:  0.7917030797724273\n",
      "F1_Score:  0.6406358528994638\n"
     ]
    }
   ],
   "source": [
    "# Naive Bayes using Borderline SMOTE\n",
    "nb(bsmote_X, X_test, bsmote_y, y_test)"
   ]
  }
 ],
 "metadata": {
  "kernelspec": {
   "display_name": "Python 3",
   "language": "python",
   "name": "python3"
  },
  "language_info": {
   "codemirror_mode": {
    "name": "ipython",
    "version": 3
   },
   "file_extension": ".py",
   "mimetype": "text/x-python",
   "name": "python",
   "nbconvert_exporter": "python",
   "pygments_lexer": "ipython3",
   "version": "3.7.3"
  }
 },
 "nbformat": 4,
 "nbformat_minor": 4
}
